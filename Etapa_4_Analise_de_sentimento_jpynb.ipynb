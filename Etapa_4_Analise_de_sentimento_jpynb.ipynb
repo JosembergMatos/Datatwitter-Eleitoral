{
  "nbformat": 4,
  "nbformat_minor": 0,
  "metadata": {
    "colab": {
      "name": "Etapa 4 - Analise de sentimento.jpynb",
      "provenance": [],
      "authorship_tag": "ABX9TyOsfDPS4ItDTaJBpizHsINs",
      "include_colab_link": true
    },
    "kernelspec": {
      "name": "python3",
      "display_name": "Python 3"
    },
    "language_info": {
      "name": "python"
    }
  },
  "cells": [
    {
      "cell_type": "markdown",
      "metadata": {
        "id": "view-in-github",
        "colab_type": "text"
      },
      "source": [
        "<a href=\"https://colab.research.google.com/github/JosembergMatos/Datatwitter-Eleitoral/blob/main/Etapa_4_Analise_de_sentimento_jpynb.ipynb\" target=\"_parent\"><img src=\"https://colab.research.google.com/assets/colab-badge.svg\" alt=\"Open In Colab\"/></a>"
      ]
    },
    {
      "cell_type": "code",
      "execution_count": null,
      "metadata": {
        "id": "bQrfb4uSrQs6"
      },
      "outputs": [],
      "source": [
        ""
      ]
    }
  ]
}