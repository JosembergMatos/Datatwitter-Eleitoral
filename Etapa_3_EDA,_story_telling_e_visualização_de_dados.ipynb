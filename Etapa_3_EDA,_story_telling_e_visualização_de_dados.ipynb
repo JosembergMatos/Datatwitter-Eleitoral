{
  "nbformat": 4,
  "nbformat_minor": 0,
  "metadata": {
    "colab": {
      "name": "Etapa 3 - EDA, story telling e visualização de dados.ipynb",
      "provenance": [],
      "authorship_tag": "ABX9TyMfXaPmyT3pvgY1c0fYzD4o",
      "include_colab_link": true
    },
    "kernelspec": {
      "name": "python3",
      "display_name": "Python 3"
    },
    "language_info": {
      "name": "python"
    }
  },
  "cells": [
    {
      "cell_type": "markdown",
      "metadata": {
        "id": "view-in-github",
        "colab_type": "text"
      },
      "source": [
        "<a href=\"https://colab.research.google.com/github/JosembergMatos/Datatwitter-Eleitoral/blob/main/Etapa_3_EDA%2C_story_telling_e_visualiza%C3%A7%C3%A3o_de_dados.ipynb\" target=\"_parent\"><img src=\"https://colab.research.google.com/assets/colab-badge.svg\" alt=\"Open In Colab\"/></a>"
      ]
    },
    {
      "cell_type": "markdown",
      "source": [
        "### **Etapa 3 - EDA, Storytelling e Visualizacao**"
      ],
      "metadata": {
        "id": "gIXtyMZfiNp7"
      }
    },
    {
      "cell_type": "markdown",
      "source": [
        ""
      ],
      "metadata": {
        "id": "EhrwCC6QiM30"
      }
    },
    {
      "cell_type": "code",
      "execution_count": 18,
      "metadata": {
        "id": "NHWR52Bcq5Fy"
      },
      "outputs": [],
      "source": [
        "import pandas as pd"
      ]
    },
    {
      "cell_type": "code",
      "source": [
        "import re"
      ],
      "metadata": {
        "id": "UbDSDJ7d0Bfp"
      },
      "execution_count": 19,
      "outputs": []
    },
    {
      "cell_type": "code",
      "source": [
        "dataframe_final_candidatos = pd.read_csv(\"dataframe_final_candidatos.csv\")"
      ],
      "metadata": {
        "id": "78zx1Ucpt8IL"
      },
      "execution_count": 20,
      "outputs": []
    },
    {
      "cell_type": "code",
      "source": [
        "dataframe_final_candidatos.head()"
      ],
      "metadata": {
        "colab": {
          "base_uri": "https://localhost:8080/",
          "height": 204
        },
        "id": "jc-FGmDqt7be",
        "outputId": "6927920d-5ca5-4676-9d1b-024b032e3e44"
      },
      "execution_count": 21,
      "outputs": [
        {
          "output_type": "execute_result",
          "data": {
            "text/plain": [
              "                   Data_Hora              IdTweet  \\\n",
              "0  2022-07-30 09:50:40+00:00  1553317140085997568   \n",
              "1  2022-07-30 09:50:38+00:00  1553317133756637185   \n",
              "2  2022-07-30 09:50:37+00:00  1553317127456686081   \n",
              "3  2022-07-30 09:50:36+00:00  1553317123342176257   \n",
              "4  2022-07-30 09:50:34+00:00  1553317115175772161   \n",
              "\n",
              "                                               Tweet Candidato  \n",
              "0  @LulaOficial O senhor não quer governar com ód...      lula  \n",
              "1  @UOLNoticias Lula é o melhor preparado para oc...      lula  \n",
              "2                              @LulaOficial ##Ladrao      lula  \n",
              "3  Isolado, Ciro elogia Lula e sinaliza que esta ...      lula  \n",
              "4  @GayerGus trabalho de formiguinha!Mostreis os ...      lula  "
            ],
            "text/html": [
              "\n",
              "  <div id=\"df-ce451639-cf19-4b6e-aa35-6d612e418c83\">\n",
              "    <div class=\"colab-df-container\">\n",
              "      <div>\n",
              "<style scoped>\n",
              "    .dataframe tbody tr th:only-of-type {\n",
              "        vertical-align: middle;\n",
              "    }\n",
              "\n",
              "    .dataframe tbody tr th {\n",
              "        vertical-align: top;\n",
              "    }\n",
              "\n",
              "    .dataframe thead th {\n",
              "        text-align: right;\n",
              "    }\n",
              "</style>\n",
              "<table border=\"1\" class=\"dataframe\">\n",
              "  <thead>\n",
              "    <tr style=\"text-align: right;\">\n",
              "      <th></th>\n",
              "      <th>Data_Hora</th>\n",
              "      <th>IdTweet</th>\n",
              "      <th>Tweet</th>\n",
              "      <th>Candidato</th>\n",
              "    </tr>\n",
              "  </thead>\n",
              "  <tbody>\n",
              "    <tr>\n",
              "      <th>0</th>\n",
              "      <td>2022-07-30 09:50:40+00:00</td>\n",
              "      <td>1553317140085997568</td>\n",
              "      <td>@LulaOficial O senhor não quer governar com ód...</td>\n",
              "      <td>lula</td>\n",
              "    </tr>\n",
              "    <tr>\n",
              "      <th>1</th>\n",
              "      <td>2022-07-30 09:50:38+00:00</td>\n",
              "      <td>1553317133756637185</td>\n",
              "      <td>@UOLNoticias Lula é o melhor preparado para oc...</td>\n",
              "      <td>lula</td>\n",
              "    </tr>\n",
              "    <tr>\n",
              "      <th>2</th>\n",
              "      <td>2022-07-30 09:50:37+00:00</td>\n",
              "      <td>1553317127456686081</td>\n",
              "      <td>@LulaOficial ##Ladrao</td>\n",
              "      <td>lula</td>\n",
              "    </tr>\n",
              "    <tr>\n",
              "      <th>3</th>\n",
              "      <td>2022-07-30 09:50:36+00:00</td>\n",
              "      <td>1553317123342176257</td>\n",
              "      <td>Isolado, Ciro elogia Lula e sinaliza que esta ...</td>\n",
              "      <td>lula</td>\n",
              "    </tr>\n",
              "    <tr>\n",
              "      <th>4</th>\n",
              "      <td>2022-07-30 09:50:34+00:00</td>\n",
              "      <td>1553317115175772161</td>\n",
              "      <td>@GayerGus trabalho de formiguinha!Mostreis os ...</td>\n",
              "      <td>lula</td>\n",
              "    </tr>\n",
              "  </tbody>\n",
              "</table>\n",
              "</div>\n",
              "      <button class=\"colab-df-convert\" onclick=\"convertToInteractive('df-ce451639-cf19-4b6e-aa35-6d612e418c83')\"\n",
              "              title=\"Convert this dataframe to an interactive table.\"\n",
              "              style=\"display:none;\">\n",
              "        \n",
              "  <svg xmlns=\"http://www.w3.org/2000/svg\" height=\"24px\"viewBox=\"0 0 24 24\"\n",
              "       width=\"24px\">\n",
              "    <path d=\"M0 0h24v24H0V0z\" fill=\"none\"/>\n",
              "    <path d=\"M18.56 5.44l.94 2.06.94-2.06 2.06-.94-2.06-.94-.94-2.06-.94 2.06-2.06.94zm-11 1L8.5 8.5l.94-2.06 2.06-.94-2.06-.94L8.5 2.5l-.94 2.06-2.06.94zm10 10l.94 2.06.94-2.06 2.06-.94-2.06-.94-.94-2.06-.94 2.06-2.06.94z\"/><path d=\"M17.41 7.96l-1.37-1.37c-.4-.4-.92-.59-1.43-.59-.52 0-1.04.2-1.43.59L10.3 9.45l-7.72 7.72c-.78.78-.78 2.05 0 2.83L4 21.41c.39.39.9.59 1.41.59.51 0 1.02-.2 1.41-.59l7.78-7.78 2.81-2.81c.8-.78.8-2.07 0-2.86zM5.41 20L4 18.59l7.72-7.72 1.47 1.35L5.41 20z\"/>\n",
              "  </svg>\n",
              "      </button>\n",
              "      \n",
              "  <style>\n",
              "    .colab-df-container {\n",
              "      display:flex;\n",
              "      flex-wrap:wrap;\n",
              "      gap: 12px;\n",
              "    }\n",
              "\n",
              "    .colab-df-convert {\n",
              "      background-color: #E8F0FE;\n",
              "      border: none;\n",
              "      border-radius: 50%;\n",
              "      cursor: pointer;\n",
              "      display: none;\n",
              "      fill: #1967D2;\n",
              "      height: 32px;\n",
              "      padding: 0 0 0 0;\n",
              "      width: 32px;\n",
              "    }\n",
              "\n",
              "    .colab-df-convert:hover {\n",
              "      background-color: #E2EBFA;\n",
              "      box-shadow: 0px 1px 2px rgba(60, 64, 67, 0.3), 0px 1px 3px 1px rgba(60, 64, 67, 0.15);\n",
              "      fill: #174EA6;\n",
              "    }\n",
              "\n",
              "    [theme=dark] .colab-df-convert {\n",
              "      background-color: #3B4455;\n",
              "      fill: #D2E3FC;\n",
              "    }\n",
              "\n",
              "    [theme=dark] .colab-df-convert:hover {\n",
              "      background-color: #434B5C;\n",
              "      box-shadow: 0px 1px 3px 1px rgba(0, 0, 0, 0.15);\n",
              "      filter: drop-shadow(0px 1px 2px rgba(0, 0, 0, 0.3));\n",
              "      fill: #FFFFFF;\n",
              "    }\n",
              "  </style>\n",
              "\n",
              "      <script>\n",
              "        const buttonEl =\n",
              "          document.querySelector('#df-ce451639-cf19-4b6e-aa35-6d612e418c83 button.colab-df-convert');\n",
              "        buttonEl.style.display =\n",
              "          google.colab.kernel.accessAllowed ? 'block' : 'none';\n",
              "\n",
              "        async function convertToInteractive(key) {\n",
              "          const element = document.querySelector('#df-ce451639-cf19-4b6e-aa35-6d612e418c83');\n",
              "          const dataTable =\n",
              "            await google.colab.kernel.invokeFunction('convertToInteractive',\n",
              "                                                     [key], {});\n",
              "          if (!dataTable) return;\n",
              "\n",
              "          const docLinkHtml = 'Like what you see? Visit the ' +\n",
              "            '<a target=\"_blank\" href=https://colab.research.google.com/notebooks/data_table.ipynb>data table notebook</a>'\n",
              "            + ' to learn more about interactive tables.';\n",
              "          element.innerHTML = '';\n",
              "          dataTable['output_type'] = 'display_data';\n",
              "          await google.colab.output.renderOutput(dataTable, element);\n",
              "          const docLink = document.createElement('div');\n",
              "          docLink.innerHTML = docLinkHtml;\n",
              "          element.appendChild(docLink);\n",
              "        }\n",
              "      </script>\n",
              "    </div>\n",
              "  </div>\n",
              "  "
            ]
          },
          "metadata": {},
          "execution_count": 21
        }
      ]
    },
    {
      "cell_type": "code",
      "source": [
        "dataframe_final_candidatos.info()"
      ],
      "metadata": {
        "id": "3gU9Y1IOu5TI",
        "colab": {
          "base_uri": "https://localhost:8080/"
        },
        "outputId": "9172de4a-0c87-493f-b5df-af665c9634e0"
      },
      "execution_count": 22,
      "outputs": [
        {
          "output_type": "stream",
          "name": "stdout",
          "text": [
            "<class 'pandas.core.frame.DataFrame'>\n",
            "RangeIndex: 93 entries, 0 to 92\n",
            "Data columns (total 4 columns):\n",
            " #   Column     Non-Null Count  Dtype \n",
            "---  ------     --------------  ----- \n",
            " 0   Data_Hora  93 non-null     object\n",
            " 1   IdTweet    93 non-null     int64 \n",
            " 2   Tweet      93 non-null     object\n",
            " 3   Candidato  93 non-null     object\n",
            "dtypes: int64(1), object(3)\n",
            "memory usage: 3.0+ KB\n"
          ]
        }
      ]
    },
    {
      "cell_type": "code",
      "source": [
        "dataframe_final_candidatos.isnull().sum()"
      ],
      "metadata": {
        "id": "TdZeDPeYu8pb",
        "colab": {
          "base_uri": "https://localhost:8080/"
        },
        "outputId": "7b36f4a0-219d-490a-bbee-b64c98b43d78"
      },
      "execution_count": 23,
      "outputs": [
        {
          "output_type": "execute_result",
          "data": {
            "text/plain": [
              "Data_Hora    0\n",
              "IdTweet      0\n",
              "Tweet        0\n",
              "Candidato    0\n",
              "dtype: int64"
            ]
          },
          "metadata": {},
          "execution_count": 23
        }
      ]
    },
    {
      "cell_type": "code",
      "source": [
        "dataframe_final_candidatos['Tweet_limpo'] = dataframe_final_candidatos['Tweet']"
      ],
      "metadata": {
        "id": "4MgGRhddu-sB"
      },
      "execution_count": 24,
      "outputs": []
    },
    {
      "cell_type": "code",
      "source": [
        "dataframe_final_candidatos.head()"
      ],
      "metadata": {
        "id": "DwPTOc8fvCBP",
        "colab": {
          "base_uri": "https://localhost:8080/",
          "height": 321
        },
        "outputId": "ad1fc2b4-449f-4f23-94d8-8cb3da47d44c"
      },
      "execution_count": 25,
      "outputs": [
        {
          "output_type": "execute_result",
          "data": {
            "text/plain": [
              "                   Data_Hora              IdTweet  \\\n",
              "0  2022-07-30 09:50:40+00:00  1553317140085997568   \n",
              "1  2022-07-30 09:50:38+00:00  1553317133756637185   \n",
              "2  2022-07-30 09:50:37+00:00  1553317127456686081   \n",
              "3  2022-07-30 09:50:36+00:00  1553317123342176257   \n",
              "4  2022-07-30 09:50:34+00:00  1553317115175772161   \n",
              "\n",
              "                                               Tweet Candidato  \\\n",
              "0  @LulaOficial O senhor não quer governar com ód...      lula   \n",
              "1  @UOLNoticias Lula é o melhor preparado para oc...      lula   \n",
              "2                              @LulaOficial ##Ladrao      lula   \n",
              "3  Isolado, Ciro elogia Lula e sinaliza que esta ...      lula   \n",
              "4  @GayerGus trabalho de formiguinha!Mostreis os ...      lula   \n",
              "\n",
              "                                         Tweet_limpo  \n",
              "0  @LulaOficial O senhor não quer governar com ód...  \n",
              "1  @UOLNoticias Lula é o melhor preparado para oc...  \n",
              "2                              @LulaOficial ##Ladrao  \n",
              "3  Isolado, Ciro elogia Lula e sinaliza que esta ...  \n",
              "4  @GayerGus trabalho de formiguinha!Mostreis os ...  "
            ],
            "text/html": [
              "\n",
              "  <div id=\"df-c4a61750-3d7b-4ea8-beb1-931b2b4e3479\">\n",
              "    <div class=\"colab-df-container\">\n",
              "      <div>\n",
              "<style scoped>\n",
              "    .dataframe tbody tr th:only-of-type {\n",
              "        vertical-align: middle;\n",
              "    }\n",
              "\n",
              "    .dataframe tbody tr th {\n",
              "        vertical-align: top;\n",
              "    }\n",
              "\n",
              "    .dataframe thead th {\n",
              "        text-align: right;\n",
              "    }\n",
              "</style>\n",
              "<table border=\"1\" class=\"dataframe\">\n",
              "  <thead>\n",
              "    <tr style=\"text-align: right;\">\n",
              "      <th></th>\n",
              "      <th>Data_Hora</th>\n",
              "      <th>IdTweet</th>\n",
              "      <th>Tweet</th>\n",
              "      <th>Candidato</th>\n",
              "      <th>Tweet_limpo</th>\n",
              "    </tr>\n",
              "  </thead>\n",
              "  <tbody>\n",
              "    <tr>\n",
              "      <th>0</th>\n",
              "      <td>2022-07-30 09:50:40+00:00</td>\n",
              "      <td>1553317140085997568</td>\n",
              "      <td>@LulaOficial O senhor não quer governar com ód...</td>\n",
              "      <td>lula</td>\n",
              "      <td>@LulaOficial O senhor não quer governar com ód...</td>\n",
              "    </tr>\n",
              "    <tr>\n",
              "      <th>1</th>\n",
              "      <td>2022-07-30 09:50:38+00:00</td>\n",
              "      <td>1553317133756637185</td>\n",
              "      <td>@UOLNoticias Lula é o melhor preparado para oc...</td>\n",
              "      <td>lula</td>\n",
              "      <td>@UOLNoticias Lula é o melhor preparado para oc...</td>\n",
              "    </tr>\n",
              "    <tr>\n",
              "      <th>2</th>\n",
              "      <td>2022-07-30 09:50:37+00:00</td>\n",
              "      <td>1553317127456686081</td>\n",
              "      <td>@LulaOficial ##Ladrao</td>\n",
              "      <td>lula</td>\n",
              "      <td>@LulaOficial ##Ladrao</td>\n",
              "    </tr>\n",
              "    <tr>\n",
              "      <th>3</th>\n",
              "      <td>2022-07-30 09:50:36+00:00</td>\n",
              "      <td>1553317123342176257</td>\n",
              "      <td>Isolado, Ciro elogia Lula e sinaliza que esta ...</td>\n",
              "      <td>lula</td>\n",
              "      <td>Isolado, Ciro elogia Lula e sinaliza que esta ...</td>\n",
              "    </tr>\n",
              "    <tr>\n",
              "      <th>4</th>\n",
              "      <td>2022-07-30 09:50:34+00:00</td>\n",
              "      <td>1553317115175772161</td>\n",
              "      <td>@GayerGus trabalho de formiguinha!Mostreis os ...</td>\n",
              "      <td>lula</td>\n",
              "      <td>@GayerGus trabalho de formiguinha!Mostreis os ...</td>\n",
              "    </tr>\n",
              "  </tbody>\n",
              "</table>\n",
              "</div>\n",
              "      <button class=\"colab-df-convert\" onclick=\"convertToInteractive('df-c4a61750-3d7b-4ea8-beb1-931b2b4e3479')\"\n",
              "              title=\"Convert this dataframe to an interactive table.\"\n",
              "              style=\"display:none;\">\n",
              "        \n",
              "  <svg xmlns=\"http://www.w3.org/2000/svg\" height=\"24px\"viewBox=\"0 0 24 24\"\n",
              "       width=\"24px\">\n",
              "    <path d=\"M0 0h24v24H0V0z\" fill=\"none\"/>\n",
              "    <path d=\"M18.56 5.44l.94 2.06.94-2.06 2.06-.94-2.06-.94-.94-2.06-.94 2.06-2.06.94zm-11 1L8.5 8.5l.94-2.06 2.06-.94-2.06-.94L8.5 2.5l-.94 2.06-2.06.94zm10 10l.94 2.06.94-2.06 2.06-.94-2.06-.94-.94-2.06-.94 2.06-2.06.94z\"/><path d=\"M17.41 7.96l-1.37-1.37c-.4-.4-.92-.59-1.43-.59-.52 0-1.04.2-1.43.59L10.3 9.45l-7.72 7.72c-.78.78-.78 2.05 0 2.83L4 21.41c.39.39.9.59 1.41.59.51 0 1.02-.2 1.41-.59l7.78-7.78 2.81-2.81c.8-.78.8-2.07 0-2.86zM5.41 20L4 18.59l7.72-7.72 1.47 1.35L5.41 20z\"/>\n",
              "  </svg>\n",
              "      </button>\n",
              "      \n",
              "  <style>\n",
              "    .colab-df-container {\n",
              "      display:flex;\n",
              "      flex-wrap:wrap;\n",
              "      gap: 12px;\n",
              "    }\n",
              "\n",
              "    .colab-df-convert {\n",
              "      background-color: #E8F0FE;\n",
              "      border: none;\n",
              "      border-radius: 50%;\n",
              "      cursor: pointer;\n",
              "      display: none;\n",
              "      fill: #1967D2;\n",
              "      height: 32px;\n",
              "      padding: 0 0 0 0;\n",
              "      width: 32px;\n",
              "    }\n",
              "\n",
              "    .colab-df-convert:hover {\n",
              "      background-color: #E2EBFA;\n",
              "      box-shadow: 0px 1px 2px rgba(60, 64, 67, 0.3), 0px 1px 3px 1px rgba(60, 64, 67, 0.15);\n",
              "      fill: #174EA6;\n",
              "    }\n",
              "\n",
              "    [theme=dark] .colab-df-convert {\n",
              "      background-color: #3B4455;\n",
              "      fill: #D2E3FC;\n",
              "    }\n",
              "\n",
              "    [theme=dark] .colab-df-convert:hover {\n",
              "      background-color: #434B5C;\n",
              "      box-shadow: 0px 1px 3px 1px rgba(0, 0, 0, 0.15);\n",
              "      filter: drop-shadow(0px 1px 2px rgba(0, 0, 0, 0.3));\n",
              "      fill: #FFFFFF;\n",
              "    }\n",
              "  </style>\n",
              "\n",
              "      <script>\n",
              "        const buttonEl =\n",
              "          document.querySelector('#df-c4a61750-3d7b-4ea8-beb1-931b2b4e3479 button.colab-df-convert');\n",
              "        buttonEl.style.display =\n",
              "          google.colab.kernel.accessAllowed ? 'block' : 'none';\n",
              "\n",
              "        async function convertToInteractive(key) {\n",
              "          const element = document.querySelector('#df-c4a61750-3d7b-4ea8-beb1-931b2b4e3479');\n",
              "          const dataTable =\n",
              "            await google.colab.kernel.invokeFunction('convertToInteractive',\n",
              "                                                     [key], {});\n",
              "          if (!dataTable) return;\n",
              "\n",
              "          const docLinkHtml = 'Like what you see? Visit the ' +\n",
              "            '<a target=\"_blank\" href=https://colab.research.google.com/notebooks/data_table.ipynb>data table notebook</a>'\n",
              "            + ' to learn more about interactive tables.';\n",
              "          element.innerHTML = '';\n",
              "          dataTable['output_type'] = 'display_data';\n",
              "          await google.colab.output.renderOutput(dataTable, element);\n",
              "          const docLink = document.createElement('div');\n",
              "          docLink.innerHTML = docLinkHtml;\n",
              "          element.appendChild(docLink);\n",
              "        }\n",
              "      </script>\n",
              "    </div>\n",
              "  </div>\n",
              "  "
            ]
          },
          "metadata": {},
          "execution_count": 25
        }
      ]
    },
    {
      "cell_type": "code",
      "source": [
        "def limpeza_do_texto(tweet):\n",
        "  tweet = tweet.lower()\n",
        "  tweet = re.sub('\\n', '', tweet)\n",
        "  tweet = re.sub('@[^\\s]+','',tweet)\n",
        "  tweet = re.sub('\\B#\\S+','', tweet)\n",
        "  tweet = re.sub('https?://\\S+www\\.\\S+','',tweet)\n",
        "  return tweet"
      ],
      "metadata": {
        "id": "C8OrcP-4u6tF"
      },
      "execution_count": 32,
      "outputs": []
    },
    {
      "cell_type": "code",
      "source": [
        "dataframe_final_candidatos['Tweet_limpo'] = dataframe_final_candidatos['Tweet'].apply(lambda i:limpeza_do_texto(i))"
      ],
      "metadata": {
        "id": "O12Be_wMu3zG"
      },
      "execution_count": 33,
      "outputs": []
    },
    {
      "cell_type": "code",
      "source": [
        "dataframe_final_candidatos.head()\n"
      ],
      "metadata": {
        "id": "uUvb1ojEu078",
        "colab": {
          "base_uri": "https://localhost:8080/",
          "height": 321
        },
        "outputId": "ce924e34-cbdf-4bd3-90ec-29e716e0d890"
      },
      "execution_count": 34,
      "outputs": [
        {
          "output_type": "execute_result",
          "data": {
            "text/plain": [
              "                   Data_Hora              IdTweet  \\\n",
              "0  2022-07-30 09:50:40+00:00  1553317140085997568   \n",
              "1  2022-07-30 09:50:38+00:00  1553317133756637185   \n",
              "2  2022-07-30 09:50:37+00:00  1553317127456686081   \n",
              "3  2022-07-30 09:50:36+00:00  1553317123342176257   \n",
              "4  2022-07-30 09:50:34+00:00  1553317115175772161   \n",
              "\n",
              "                                               Tweet Candidato  \\\n",
              "0  @LulaOficial O senhor não quer governar com ód...      lula   \n",
              "1  @UOLNoticias Lula é o melhor preparado para oc...      lula   \n",
              "2                              @LulaOficial ##Ladrao      lula   \n",
              "3  Isolado, Ciro elogia Lula e sinaliza que esta ...      lula   \n",
              "4  @GayerGus trabalho de formiguinha!Mostreis os ...      lula   \n",
              "\n",
              "                                         Tweet_limpo  \n",
              "0   o senhor não quer governar com ódio? fique tr...  \n",
              "1   lula é o melhor preparado para ocupar a presi...  \n",
              "2                                                     \n",
              "3  isolado, ciro elogia lula e sinaliza que esta ...  \n",
              "4   trabalho de formiguinha!mostreis os vídeos do...  "
            ],
            "text/html": [
              "\n",
              "  <div id=\"df-96b1223a-19e5-42b6-bebc-bfcaa1c349d3\">\n",
              "    <div class=\"colab-df-container\">\n",
              "      <div>\n",
              "<style scoped>\n",
              "    .dataframe tbody tr th:only-of-type {\n",
              "        vertical-align: middle;\n",
              "    }\n",
              "\n",
              "    .dataframe tbody tr th {\n",
              "        vertical-align: top;\n",
              "    }\n",
              "\n",
              "    .dataframe thead th {\n",
              "        text-align: right;\n",
              "    }\n",
              "</style>\n",
              "<table border=\"1\" class=\"dataframe\">\n",
              "  <thead>\n",
              "    <tr style=\"text-align: right;\">\n",
              "      <th></th>\n",
              "      <th>Data_Hora</th>\n",
              "      <th>IdTweet</th>\n",
              "      <th>Tweet</th>\n",
              "      <th>Candidato</th>\n",
              "      <th>Tweet_limpo</th>\n",
              "    </tr>\n",
              "  </thead>\n",
              "  <tbody>\n",
              "    <tr>\n",
              "      <th>0</th>\n",
              "      <td>2022-07-30 09:50:40+00:00</td>\n",
              "      <td>1553317140085997568</td>\n",
              "      <td>@LulaOficial O senhor não quer governar com ód...</td>\n",
              "      <td>lula</td>\n",
              "      <td>o senhor não quer governar com ódio? fique tr...</td>\n",
              "    </tr>\n",
              "    <tr>\n",
              "      <th>1</th>\n",
              "      <td>2022-07-30 09:50:38+00:00</td>\n",
              "      <td>1553317133756637185</td>\n",
              "      <td>@UOLNoticias Lula é o melhor preparado para oc...</td>\n",
              "      <td>lula</td>\n",
              "      <td>lula é o melhor preparado para ocupar a presi...</td>\n",
              "    </tr>\n",
              "    <tr>\n",
              "      <th>2</th>\n",
              "      <td>2022-07-30 09:50:37+00:00</td>\n",
              "      <td>1553317127456686081</td>\n",
              "      <td>@LulaOficial ##Ladrao</td>\n",
              "      <td>lula</td>\n",
              "      <td></td>\n",
              "    </tr>\n",
              "    <tr>\n",
              "      <th>3</th>\n",
              "      <td>2022-07-30 09:50:36+00:00</td>\n",
              "      <td>1553317123342176257</td>\n",
              "      <td>Isolado, Ciro elogia Lula e sinaliza que esta ...</td>\n",
              "      <td>lula</td>\n",
              "      <td>isolado, ciro elogia lula e sinaliza que esta ...</td>\n",
              "    </tr>\n",
              "    <tr>\n",
              "      <th>4</th>\n",
              "      <td>2022-07-30 09:50:34+00:00</td>\n",
              "      <td>1553317115175772161</td>\n",
              "      <td>@GayerGus trabalho de formiguinha!Mostreis os ...</td>\n",
              "      <td>lula</td>\n",
              "      <td>trabalho de formiguinha!mostreis os vídeos do...</td>\n",
              "    </tr>\n",
              "  </tbody>\n",
              "</table>\n",
              "</div>\n",
              "      <button class=\"colab-df-convert\" onclick=\"convertToInteractive('df-96b1223a-19e5-42b6-bebc-bfcaa1c349d3')\"\n",
              "              title=\"Convert this dataframe to an interactive table.\"\n",
              "              style=\"display:none;\">\n",
              "        \n",
              "  <svg xmlns=\"http://www.w3.org/2000/svg\" height=\"24px\"viewBox=\"0 0 24 24\"\n",
              "       width=\"24px\">\n",
              "    <path d=\"M0 0h24v24H0V0z\" fill=\"none\"/>\n",
              "    <path d=\"M18.56 5.44l.94 2.06.94-2.06 2.06-.94-2.06-.94-.94-2.06-.94 2.06-2.06.94zm-11 1L8.5 8.5l.94-2.06 2.06-.94-2.06-.94L8.5 2.5l-.94 2.06-2.06.94zm10 10l.94 2.06.94-2.06 2.06-.94-2.06-.94-.94-2.06-.94 2.06-2.06.94z\"/><path d=\"M17.41 7.96l-1.37-1.37c-.4-.4-.92-.59-1.43-.59-.52 0-1.04.2-1.43.59L10.3 9.45l-7.72 7.72c-.78.78-.78 2.05 0 2.83L4 21.41c.39.39.9.59 1.41.59.51 0 1.02-.2 1.41-.59l7.78-7.78 2.81-2.81c.8-.78.8-2.07 0-2.86zM5.41 20L4 18.59l7.72-7.72 1.47 1.35L5.41 20z\"/>\n",
              "  </svg>\n",
              "      </button>\n",
              "      \n",
              "  <style>\n",
              "    .colab-df-container {\n",
              "      display:flex;\n",
              "      flex-wrap:wrap;\n",
              "      gap: 12px;\n",
              "    }\n",
              "\n",
              "    .colab-df-convert {\n",
              "      background-color: #E8F0FE;\n",
              "      border: none;\n",
              "      border-radius: 50%;\n",
              "      cursor: pointer;\n",
              "      display: none;\n",
              "      fill: #1967D2;\n",
              "      height: 32px;\n",
              "      padding: 0 0 0 0;\n",
              "      width: 32px;\n",
              "    }\n",
              "\n",
              "    .colab-df-convert:hover {\n",
              "      background-color: #E2EBFA;\n",
              "      box-shadow: 0px 1px 2px rgba(60, 64, 67, 0.3), 0px 1px 3px 1px rgba(60, 64, 67, 0.15);\n",
              "      fill: #174EA6;\n",
              "    }\n",
              "\n",
              "    [theme=dark] .colab-df-convert {\n",
              "      background-color: #3B4455;\n",
              "      fill: #D2E3FC;\n",
              "    }\n",
              "\n",
              "    [theme=dark] .colab-df-convert:hover {\n",
              "      background-color: #434B5C;\n",
              "      box-shadow: 0px 1px 3px 1px rgba(0, 0, 0, 0.15);\n",
              "      filter: drop-shadow(0px 1px 2px rgba(0, 0, 0, 0.3));\n",
              "      fill: #FFFFFF;\n",
              "    }\n",
              "  </style>\n",
              "\n",
              "      <script>\n",
              "        const buttonEl =\n",
              "          document.querySelector('#df-96b1223a-19e5-42b6-bebc-bfcaa1c349d3 button.colab-df-convert');\n",
              "        buttonEl.style.display =\n",
              "          google.colab.kernel.accessAllowed ? 'block' : 'none';\n",
              "\n",
              "        async function convertToInteractive(key) {\n",
              "          const element = document.querySelector('#df-96b1223a-19e5-42b6-bebc-bfcaa1c349d3');\n",
              "          const dataTable =\n",
              "            await google.colab.kernel.invokeFunction('convertToInteractive',\n",
              "                                                     [key], {});\n",
              "          if (!dataTable) return;\n",
              "\n",
              "          const docLinkHtml = 'Like what you see? Visit the ' +\n",
              "            '<a target=\"_blank\" href=https://colab.research.google.com/notebooks/data_table.ipynb>data table notebook</a>'\n",
              "            + ' to learn more about interactive tables.';\n",
              "          element.innerHTML = '';\n",
              "          dataTable['output_type'] = 'display_data';\n",
              "          await google.colab.output.renderOutput(dataTable, element);\n",
              "          const docLink = document.createElement('div');\n",
              "          docLink.innerHTML = docLinkHtml;\n",
              "          element.appendChild(docLink);\n",
              "        }\n",
              "      </script>\n",
              "    </div>\n",
              "  </div>\n",
              "  "
            ]
          },
          "metadata": {},
          "execution_count": 34
        }
      ]
    },
    {
      "cell_type": "code",
      "source": [
        "dataframe_final_candidatos.to_csv('dataframe_final_candidatos_pronto_para_sentimento.csv', sep=',', index=False)"
      ],
      "metadata": {
        "id": "gpyr-0PauxMc"
      },
      "execution_count": 36,
      "outputs": []
    },
    {
      "cell_type": "code",
      "source": [
        ""
      ],
      "metadata": {
        "id": "QtU3Qquz1QfR"
      },
      "execution_count": null,
      "outputs": []
    },
    {
      "cell_type": "code",
      "source": [
        ""
      ],
      "metadata": {
        "id": "w31ZZUn81QJ7"
      },
      "execution_count": null,
      "outputs": []
    }
  ]
}