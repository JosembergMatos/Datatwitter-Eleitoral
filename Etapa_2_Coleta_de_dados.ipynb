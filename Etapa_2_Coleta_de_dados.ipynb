{
  "nbformat": 4,
  "nbformat_minor": 0,
  "metadata": {
    "colab": {
      "name": "Etapa 2 - Coleta de dados.ipynb",
      "provenance": [],
      "authorship_tag": "ABX9TyP+lLvpQE92I6qRJMPqW5nN",
      "include_colab_link": true
    },
    "kernelspec": {
      "name": "python3",
      "display_name": "Python 3"
    },
    "language_info": {
      "name": "python"
    }
  },
  "cells": [
    {
      "cell_type": "markdown",
      "metadata": {
        "id": "view-in-github",
        "colab_type": "text"
      },
      "source": [
        "<a href=\"https://colab.research.google.com/github/JosembergMatos/Datatwitter-Eleitoral/blob/main/Etapa_2_Coleta_de_dados.ipynb\" target=\"_parent\"><img src=\"https://colab.research.google.com/assets/colab-badge.svg\" alt=\"Open In Colab\"/></a>"
      ]
    },
    {
      "cell_type": "markdown",
      "source": [
        "# **Apresentacao do projeto**"
      ],
      "metadata": {
        "id": "5xcA5wMkqL75"
      }
    },
    {
      "cell_type": "code",
      "execution_count": 1,
      "metadata": {
        "colab": {
          "base_uri": "https://localhost:8080/"
        },
        "id": "lVPgWP2dogPC",
        "outputId": "c279646e-43cd-483b-a63b-728676b7204a"
      },
      "outputs": [
        {
          "output_type": "stream",
          "name": "stdout",
          "text": [
            "Hello World!!!\n"
          ]
        }
      ],
      "source": [
        "print(\"Hello World!!!\")"
      ]
    },
    {
      "cell_type": "code",
      "source": [
        ""
      ],
      "metadata": {
        "id": "Vr2sKOuHuHL5"
      },
      "execution_count": null,
      "outputs": []
    }
  ]
}