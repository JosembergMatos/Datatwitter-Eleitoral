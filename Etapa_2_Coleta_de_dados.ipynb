{
  "nbformat": 4,
  "nbformat_minor": 0,
  "metadata": {
    "colab": {
      "name": "Etapa 2 - Coleta de dados.ipynb",
      "provenance": [],
      "authorship_tag": "ABX9TyP88XMtekwvhAX4OtDMOpps",
      "include_colab_link": true
    },
    "kernelspec": {
      "name": "python3",
      "display_name": "Python 3"
    },
    "language_info": {
      "name": "python"
    }
  },
  "cells": [
    {
      "cell_type": "markdown",
      "metadata": {
        "id": "view-in-github",
        "colab_type": "text"
      },
      "source": [
        "<a href=\"https://colab.research.google.com/github/JosembergMatos/Datatwitter-Eleitoral/blob/main/Etapa_2_Coleta_de_dados.ipynb\" target=\"_parent\"><img src=\"https://colab.research.google.com/assets/colab-badge.svg\" alt=\"Open In Colab\"/></a>"
      ]
    },
    {
      "cell_type": "markdown",
      "source": [
        "# **Apresentacao do projeto**"
      ],
      "metadata": {
        "id": "5xcA5wMkqL75"
      }
    },
    {
      "cell_type": "markdown",
      "source": [
        "Proposta para a constru;'ao de uma aplicacao que realiza analise de sentimento dos candidatos a presidencia\n",
        " "
      ],
      "metadata": {
        "id": "6vrl_BE4WdO-"
      }
    },
    {
      "cell_type": "markdown",
      "source": [
        "Instalacao das bibliotecas\n"
      ],
      "metadata": {
        "id": "4LnkpdfyW4lc"
      }
    },
    {
      "cell_type": "code",
      "source": [
        "pip install snscrape\n"
      ],
      "metadata": {
        "id": "w5Xvk7e8XCax"
      },
      "execution_count": null,
      "outputs": []
    },
    {
      "cell_type": "code",
      "source": [
        ""
      ],
      "metadata": {
        "id": "Vr2sKOuHuHL5"
      },
      "execution_count": 51,
      "outputs": []
    },
    {
      "cell_type": "markdown",
      "source": [
        "Importando as Bibliotecas\n"
      ],
      "metadata": {
        "id": "oINNeaC5XRw2"
      }
    },
    {
      "cell_type": "code",
      "source": [
        "import snscrape.modules.twitter as sntwitter\n"
      ],
      "metadata": {
        "id": "NboT_3dCXYHC"
      },
      "execution_count": 52,
      "outputs": []
    },
    {
      "cell_type": "code",
      "source": [
        "#Manipulacao de dados\n",
        "import pandas as pd\n"
      ],
      "metadata": {
        "id": "voNnnQPBWPT5"
      },
      "execution_count": 53,
      "outputs": []
    },
    {
      "cell_type": "markdown",
      "source": [
        ""
      ],
      "metadata": {
        "id": "bYM7xipxWOsy"
      }
    },
    {
      "cell_type": "code",
      "source": [
        "maximo_de_tweets = 30"
      ],
      "metadata": {
        "id": "e7-JQcZbX3gy"
      },
      "execution_count": 54,
      "outputs": []
    },
    {
      "cell_type": "markdown",
      "source": [
        "### **lula**"
      ],
      "metadata": {
        "id": "MfJLTgTjdfHc"
      }
    },
    {
      "cell_type": "code",
      "source": [
        "lista_de_tweets_lula = []"
      ],
      "metadata": {
        "id": "zmwyq7RvXuqs"
      },
      "execution_count": 55,
      "outputs": []
    },
    {
      "cell_type": "code",
      "source": [
        "type(lista_de_tweets_lula)"
      ],
      "metadata": {
        "colab": {
          "base_uri": "https://localhost:8080/"
        },
        "id": "GAUjNPcoQ3F9",
        "outputId": "e5eedffa-7862-47fe-82b8-19abd477521d"
      },
      "execution_count": 56,
      "outputs": [
        {
          "output_type": "execute_result",
          "data": {
            "text/plain": [
              "list"
            ]
          },
          "metadata": {},
          "execution_count": 56
        }
      ]
    },
    {
      "cell_type": "code",
      "source": [
        "for i, tweet in enumerate(sntwitter.TwitterSearchScraper(['lula']).get_items()):\n",
        "  if i > maximo_de_tweets:\n",
        "    break\n",
        "  lista_de_tweets_lula.append([tweet.date, tweet.id, tweet.content])"
      ],
      "metadata": {
        "id": "3aF2SyboZUND"
      },
      "execution_count": 57,
      "outputs": []
    },
    {
      "cell_type": "code",
      "source": [
        "lista_de_tweets_lula"
      ],
      "metadata": {
        "id": "q6hqAMX6a1WP"
      },
      "execution_count": null,
      "outputs": []
    },
    {
      "cell_type": "code",
      "source": [
        "dataframe_tweets_lula = pd.DataFrame(lista_de_tweets_lula, columns=['Data_Hora', 'IdTweet','Tweet'])"
      ],
      "metadata": {
        "id": "0fajzW15drhm"
      },
      "execution_count": 59,
      "outputs": []
    },
    {
      "cell_type": "code",
      "source": [
        "from pandas.core.frame import DataFrame\n",
        "dataframe_tweets_lula.head(n=5)"
      ],
      "metadata": {
        "id": "5Dci_H4HfYEP"
      },
      "execution_count": null,
      "outputs": []
    },
    {
      "cell_type": "code",
      "source": [
        "dataframe_tweets_lula['Candidato']='lula'"
      ],
      "metadata": {
        "id": "i1Hka_AjbM-8"
      },
      "execution_count": 61,
      "outputs": []
    },
    {
      "cell_type": "code",
      "source": [
        "dataframe_tweets_lula.head()"
      ],
      "metadata": {
        "id": "7NHsugJIbriK"
      },
      "execution_count": null,
      "outputs": []
    },
    {
      "cell_type": "markdown",
      "source": [
        "## **Bolsonaro**"
      ],
      "metadata": {
        "id": "KADpjhJ6dSxB"
      }
    },
    {
      "cell_type": "code",
      "source": [
        "lista_de_tweets_bolsonaro = []"
      ],
      "metadata": {
        "id": "dOkMZDmnTSQ5"
      },
      "execution_count": 63,
      "outputs": []
    },
    {
      "cell_type": "code",
      "source": [
        "for i, tweet in enumerate(sntwitter.TwitterSearchScraper({'Bolsonaro'}).get_items()):\n",
        "  if i > maximo_de_tweets:\n",
        "    break\n",
        "  lista_de_tweets_bolsonaro.append([tweet.date, tweet.id, tweet.content])"
      ],
      "metadata": {
        "id": "szNYdtd2eH8O"
      },
      "execution_count": 64,
      "outputs": []
    },
    {
      "cell_type": "code",
      "source": [
        "dataframe_tweets_bolsonaro = pd.DataFrame(lista_de_tweets_bolsonaro, columns=['Data_Hora', 'IdTweet','Tweet'])"
      ],
      "metadata": {
        "id": "UH0btukochUm"
      },
      "execution_count": 65,
      "outputs": []
    },
    {
      "cell_type": "code",
      "source": [
        "dataframe_tweets_bolsonaro.head()"
      ],
      "metadata": {
        "id": "0SnGmoK_ZS3a"
      },
      "execution_count": null,
      "outputs": []
    },
    {
      "cell_type": "code",
      "source": [
        "dataframe_tweets_bolsonaro['Candidato'] = 'Bolsonaro'"
      ],
      "metadata": {
        "id": "Xz0oR4hKezM1"
      },
      "execution_count": 67,
      "outputs": []
    },
    {
      "cell_type": "code",
      "source": [
        "dataframe_tweets_bolsonaro.head()"
      ],
      "metadata": {
        "id": "7z6g12bifByD"
      },
      "execution_count": null,
      "outputs": []
    },
    {
      "cell_type": "markdown",
      "source": [
        ""
      ],
      "metadata": {
        "id": "yiVMqZdzg8cC"
      }
    },
    {
      "cell_type": "markdown",
      "source": [
        "## **Ciro Gomes** \n",
        "\n",
        "```\n",
        "# This is formatted as code\n",
        "```\n",
        "\n"
      ],
      "metadata": {
        "id": "uPqZnnlpg9Jn"
      }
    },
    {
      "cell_type": "code",
      "source": [
        "lista_de_tweets_ciro = []"
      ],
      "metadata": {
        "id": "gYNkJV8mTfTc"
      },
      "execution_count": 69,
      "outputs": []
    },
    {
      "cell_type": "code",
      "source": [
        "for i, tweet in enumerate(sntwitter.TwitterSearchScraper({'Ciro Gomes'}).get_items()):\n",
        "  if i > maximo_de_tweets:\n",
        "    break\n",
        "  lista_de_tweets_ciro.append([tweet.date, tweet.id, tweet.content])"
      ],
      "metadata": {
        "id": "v9zYrFLYTJqP"
      },
      "execution_count": 70,
      "outputs": []
    },
    {
      "cell_type": "code",
      "source": [
        "dataframe_tweets_ciro = pd.DataFrame(lista_de_tweets_bolsonaro, columns=['Data_Hora', 'IdTweet','Tweet'])"
      ],
      "metadata": {
        "id": "DGzUHKB9VX56"
      },
      "execution_count": 71,
      "outputs": []
    },
    {
      "cell_type": "code",
      "source": [
        "dataframe_tweets_ciro.head()"
      ],
      "metadata": {
        "id": "VODAvV2zTenr"
      },
      "execution_count": null,
      "outputs": []
    },
    {
      "cell_type": "code",
      "source": [
        "dataframe_tweets_ciro['Candidato']='ciro'"
      ],
      "metadata": {
        "id": "Q3o-njE8fqDy"
      },
      "execution_count": 73,
      "outputs": []
    },
    {
      "cell_type": "code",
      "source": [
        "dataframe_tweets_ciro.head()"
      ],
      "metadata": {
        "id": "MBsxHQB0fx6E"
      },
      "execution_count": null,
      "outputs": []
    },
    {
      "cell_type": "code",
      "source": [
        "dataframe_final = pd.concat([dataframe_tweets_lula,dataframe_tweets_bolsonaro,dataframe_tweets_lula], axis=0)"
      ],
      "metadata": {
        "id": "mhCgoEXXlxd6"
      },
      "execution_count": 75,
      "outputs": []
    },
    {
      "cell_type": "code",
      "source": [
        "dataframe_final['Candidato'].unique()"
      ],
      "metadata": {
        "colab": {
          "base_uri": "https://localhost:8080/"
        },
        "id": "d9f26hZjloAL",
        "outputId": "500bade3-31e3-404f-f194-7cf2ea9ef124"
      },
      "execution_count": 78,
      "outputs": [
        {
          "output_type": "execute_result",
          "data": {
            "text/plain": [
              "array(['lula', 'Bolsonaro'], dtype=object)"
            ]
          },
          "metadata": {},
          "execution_count": 78
        }
      ]
    },
    {
      "cell_type": "code",
      "source": [
        "from os import sep\n",
        "dataframe_final.to_csv('dataframe_final_candidatos.csv', sep=',',index=False)"
      ],
      "metadata": {
        "id": "wHfcSe3yndCx"
      },
      "execution_count": 79,
      "outputs": []
    }
  ]
}